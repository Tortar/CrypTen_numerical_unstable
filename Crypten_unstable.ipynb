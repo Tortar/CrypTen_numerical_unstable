{
 "cells": [
  {
   "cell_type": "code",
   "execution_count": 1,
   "id": "75fb0662-8992-428c-b915-7bed8f050e91",
   "metadata": {},
   "outputs": [],
   "source": [
    "import torch\n",
    "import crypten\n",
    "import statsmodels.api as sm\n",
    "import numpy as np\n",
    "import pandas as pd\n",
    "from sklearn.preprocessing import MinMaxScaler, StandardScaler\n",
    "\n",
    "crypten.init()"
   ]
  },
  {
   "cell_type": "code",
   "execution_count": 2,
   "id": "a40ed0fd-33fd-46e2-a422-6d17046f7f62",
   "metadata": {},
   "outputs": [],
   "source": [
    "iris = sm.datasets.get_rdataset(\"iris\")\n",
    "y = iris.data['Species']\n",
    "X = iris.data.drop(columns=['Species'])\n",
    "X = sm.add_constant(X)\n",
    "X = X.to_numpy(dtype=np.float64)\n",
    "#X = MinMaxScaler().fit(X).transform(X)\n",
    "y = pd.get_dummies(y, drop_first=True)[\"virginica\"].to_numpy(dtype=np.float64)"
   ]
  },
  {
   "cell_type": "code",
   "execution_count": 3,
   "id": "f74174a7-704f-47b1-98ad-1c6bc3465031",
   "metadata": {},
   "outputs": [],
   "source": [
    "affairs = sm.datasets.get_rdataset('Affairs', 'AER')\n",
    "y = affairs.data['affairs'].to_numpy(dtype=np.float64)\n",
    "X = affairs.data.drop(columns=['affairs'])\n",
    "X = sm.add_constant(X)\n",
    "X = pd.get_dummies(X, drop_first=True).to_numpy(dtype=np.float64)\n",
    "#X = MinMaxScaler().fit(X).transform(X)"
   ]
  },
  {
   "cell_type": "code",
   "execution_count": 4,
   "id": "51519614-be23-4d44-9ffc-3068110362ef",
   "metadata": {},
   "outputs": [],
   "source": [
    "np.linalg.inv(X.T @ X);"
   ]
  },
  {
   "cell_type": "code",
   "execution_count": 5,
   "id": "197e91e0-1a62-404b-820e-850b5e856821",
   "metadata": {},
   "outputs": [],
   "source": [
    "model = sm.OLS(y,X)\n",
    "results = model.fit()\n",
    "params_no_SMPC = results.params"
   ]
  },
  {
   "cell_type": "code",
   "execution_count": 6,
   "id": "5c0acb6f-9ca7-41a7-84aa-81e233030cad",
   "metadata": {},
   "outputs": [],
   "source": [
    "def norm_1(A):\n",
    "    return A.abs().sum(axis=0).max()\n",
    "\n",
    "def ge_enc_inv(A):\n",
    "    n = A.shape[0]\n",
    "    \n",
    "    # Create an augmented matrix [A | I]\n",
    "    augmented_matrix = crypten.cat([A, crypten.cryptensor(np.eye(n)),], dim=1)\n",
    "    \n",
    "    # Perform Gaussian elimination\n",
    "    for i in range(n):\n",
    "        # Find the pivot element\n",
    "        pivot = augmented_matrix[i, i]\n",
    "        if pivot.get_plain_text() == 0:\n",
    "            # Swap with a non-zero row below\n",
    "            for j in range(i + 1, n):\n",
    "                if augmented_matrix[j, i] != 0:\n",
    "                    augmented_matrix[[i, j]] = augmented_matrix[[j, i]]\n",
    "                    pivot = augmented_matrix[i, i]\n",
    "                    break\n",
    "            else:\n",
    "                raise ValueError(\"Matrix is singular and cannot be inverted.\")\n",
    "        \n",
    "        # Normalize the pivot row\n",
    "        augmented_matrix[i] = augmented_matrix[i] / pivot\n",
    "        \n",
    "        # Eliminate the column entries above and below the pivot\n",
    "        for j in range(n):\n",
    "            if j != i:\n",
    "                factor = augmented_matrix[j, i]\n",
    "                augmented_matrix[j] = augmented_matrix[j] - factor * augmented_matrix[i]\n",
    "    \n",
    "    # The right half of the augmented matrix is now the inverse\n",
    "    A_inv = augmented_matrix[:, n:]\n",
    "    return A_inv\n",
    "\n",
    "def n_enc_inv(A, niter=1000):\n",
    "    n = A.shape[0]\n",
    "    \n",
    "    X_k = crypten.cryptensor(np.eye(n) / norm_1(A).get_plain_text())\n",
    "    \n",
    "    for k in range(niter):\n",
    "        X_k_next = 2 * X_k - X_k.matmul(A).matmul(X_k)       \n",
    "        X_k = X_k_next\n",
    "    \n",
    "    return X_k_next"
   ]
  },
  {
   "cell_type": "code",
   "execution_count": 7,
   "id": "d021831b-6973-4eb6-8a70-f7794d621fed",
   "metadata": {},
   "outputs": [],
   "source": [
    "class SecureOLS:\n",
    "\n",
    "    def __init__(self, y, X):\n",
    "        self.y_enc = crypten.cryptensor(y)\n",
    "        self.X_enc = crypten.cryptensor(X)\n",
    "\n",
    "    def fit1(self):\n",
    "        X_enc_t = self.X_enc.t()\n",
    "        X_X_t_enc = X_enc_t.matmul(self.X_enc)\n",
    "        n1 = norm_1(X_X_t_enc).get_plain_text()\n",
    "        return n_enc_inv(X_X_t_enc / n1).matmul(X_enc_t).matmul(self.y_enc) / n1\n",
    "\n",
    "    def fit2(self):\n",
    "        X_enc_t = self.X_enc.t()\n",
    "        X_X_t_enc = X_enc_t.matmul(self.X_enc)\n",
    "        n1 = norm_1(X_X_t_enc).get_plain_text()\n",
    "        return ge_enc_inv(X_X_t_enc / n1).matmul(X_enc_t).matmul(self.y_enc) / n1"
   ]
  },
  {
   "cell_type": "code",
   "execution_count": 8,
   "id": "16023b75-bae4-41ee-8242-1f2e22a96a27",
   "metadata": {},
   "outputs": [],
   "source": [
    "model = SecureOLS(y, X)\n",
    "X_enc1 = model.fit1()\n",
    "X_enc2 = model.fit2()"
   ]
  },
  {
   "cell_type": "code",
   "execution_count": 9,
   "id": "370f394d-d135-48a8-9592-7d8b89cccac2",
   "metadata": {},
   "outputs": [],
   "source": [
    "params_SMPC1 = np.array(X_enc1.get_plain_text())\n",
    "params_SMPC2 = np.array(X_enc2.get_plain_text())"
   ]
  },
  {
   "cell_type": "code",
   "execution_count": 10,
   "id": "0ee67436-05c3-47e1-84b6-cf0b7a9a5926",
   "metadata": {},
   "outputs": [
    {
     "data": {
      "text/plain": [
       "array([379.15674  ,  -4.438019 ,   3.7505798,  -5.2733154, -19.051392 ,\n",
       "         2.0276337,  -2.3361664, 101.151825 ,  25.98584  ], dtype=float32)"
      ]
     },
     "execution_count": 10,
     "metadata": {},
     "output_type": "execute_result"
    }
   ],
   "source": [
    "# Crypten results are totally different from the true values\n",
    "params_SMPC1"
   ]
  },
  {
   "cell_type": "code",
   "execution_count": 11,
   "id": "143811a2-66b8-498b-a23c-7f044454b229",
   "metadata": {},
   "outputs": [
    {
     "data": {
      "text/plain": [
       "array([ 1.4877777 , -0.02581787,  0.13748169, -0.34294128,  0.13941956,\n",
       "        0.07505798, -0.4957428 ,  0.01974487,  0.1219635 ], dtype=float32)"
      ]
     },
     "execution_count": 11,
     "metadata": {},
     "output_type": "execute_result"
    }
   ],
   "source": [
    "params_SMPC2"
   ]
  },
  {
   "cell_type": "code",
   "execution_count": 12,
   "id": "2acc33db-c7c7-4ad9-9205-badcc5934377",
   "metadata": {},
   "outputs": [
    {
     "data": {
      "text/plain": [
       "array([ 5.87201014, -0.05097628,  0.16947232, -0.47761363, -0.01374903,\n",
       "        0.10491597, -0.71187692,  0.05408587, -0.14262446])"
      ]
     },
     "execution_count": 12,
     "metadata": {},
     "output_type": "execute_result"
    }
   ],
   "source": [
    "params_no_SMPC"
   ]
  },
  {
   "cell_type": "code",
   "execution_count": 13,
   "id": "2eb2b4ad-5dd7-41f1-9844-75e7a7cd4928",
   "metadata": {},
   "outputs": [
    {
     "data": {
      "text/plain": [
       "'avg. error: 176.99436705570864 %'"
      ]
     },
     "execution_count": 13,
     "metadata": {},
     "output_type": "execute_result"
    }
   ],
   "source": [
    "f\"avg. error: {100 * sum(np.abs((params_SMPC2 - params_no_SMPC)/ params_no_SMPC)) / len(params_no_SMPC)} %\""
   ]
  },
  {
   "cell_type": "code",
   "execution_count": null,
   "id": "a7dd8260-f8a8-46d5-a1fb-0d1007a9a770",
   "metadata": {},
   "outputs": [],
   "source": []
  },
  {
   "cell_type": "code",
   "execution_count": null,
   "id": "19f062e1-a327-4cba-bf2a-4070585718ff",
   "metadata": {},
   "outputs": [],
   "source": []
  }
 ],
 "metadata": {
  "kernelspec": {
   "display_name": "Python 3 (ipykernel)",
   "language": "python",
   "name": "python3"
  },
  "language_info": {
   "codemirror_mode": {
    "name": "ipython",
    "version": 3
   },
   "file_extension": ".py",
   "mimetype": "text/x-python",
   "name": "python",
   "nbconvert_exporter": "python",
   "pygments_lexer": "ipython3",
   "version": "3.10.12"
  }
 },
 "nbformat": 4,
 "nbformat_minor": 5
}
